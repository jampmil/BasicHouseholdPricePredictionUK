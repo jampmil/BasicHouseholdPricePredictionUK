{
 "cells": [
  {
   "cell_type": "markdown",
   "metadata": {},
   "source": [
    "# Imports"
   ]
  },
  {
   "cell_type": "code",
   "execution_count": null,
   "metadata": {
    "collapsed": true
   },
   "outputs": [],
   "source": [
    "import numpy as np\n",
    "import pandas as pd\n",
    "from IPython.display import display\n",
    "from pylab import *\n",
    "import matplotlib.pyplot as plt\n",
    "%matplotlib inline"
   ]
  },
  {
   "cell_type": "code",
   "execution_count": null,
   "metadata": {
    "collapsed": true
   },
   "outputs": [],
   "source": [
    "from sklearn import linear_model\n",
    "from sklearn import cross_validation\n",
    "from sklearn import tree\n",
    "from sklearn.grid_search import GridSearchCV"
   ]
  },
  {
   "cell_type": "markdown",
   "metadata": {},
   "source": [
    "# Configuration Variables"
   ]
  },
  {
   "cell_type": "code",
   "execution_count": null,
   "metadata": {
    "collapsed": false
   },
   "outputs": [],
   "source": [
    "#Input file path\n",
    "inputFile = 'pp-complete.txt'\n",
    "\n",
    "#Sample size - if 0 uses the whole dataset\n",
    "sampleSize = 0\n",
    "\n",
    "#Perform parameter tunning (with the entire dataset it takes a long time, use this with a sample)\n",
    "parameterTunning = False"
   ]
  },
  {
   "cell_type": "markdown",
   "metadata": {},
   "source": [
    "# Importing Data & Preprocessing"
   ]
  },
  {
   "cell_type": "code",
   "execution_count": null,
   "metadata": {
    "collapsed": false
   },
   "outputs": [],
   "source": [
    "#Read the original data set\n",
    "original_set = pd.read_csv(inputFile, header = 0)\n",
    "original_set.columns = ['id', 'price', 'date', 'postcode', 'type', 'old_new', 'duration', 'paon', 'saon', 'street', 'locality', 'city', 'district', 'county', 'ppd', 'record_status']"
   ]
  },
  {
   "cell_type": "code",
   "execution_count": null,
   "metadata": {
    "collapsed": false
   },
   "outputs": [],
   "source": [
    "#Drop unused columns\n",
    "original_set = original_set.drop(['id', 'postcode', 'old_new', 'paon', 'saon', 'street', 'locality', 'district', 'county', 'ppd', 'record_status'], axis = 1)"
   ]
  },
  {
   "cell_type": "code",
   "execution_count": null,
   "metadata": {
    "collapsed": false
   },
   "outputs": [],
   "source": [
    "#Create feature that indicates if a city is in london or not\n",
    "original_set['london'] = original_set['city'].str.contains('london', case=False)"
   ]
  },
  {
   "cell_type": "code",
   "execution_count": null,
   "metadata": {
    "collapsed": false
   },
   "outputs": [],
   "source": [
    "#Extract year from the date in order to separate training and testing sets\n",
    "original_set['year'] = original_set['date'].str[:4]"
   ]
  },
  {
   "cell_type": "code",
   "execution_count": null,
   "metadata": {
    "collapsed": false
   },
   "outputs": [],
   "source": [
    "#Make sure types are correct\n",
    "original_set['year'] = pd.to_numeric(original_set['year'])"
   ]
  },
  {
   "cell_type": "code",
   "execution_count": null,
   "metadata": {
    "collapsed": false
   },
   "outputs": [],
   "source": [
    "original_set.dtypes"
   ]
  },
  {
   "cell_type": "code",
   "execution_count": null,
   "metadata": {
    "collapsed": true
   },
   "outputs": [],
   "source": [
    "#Drop unused columns\n",
    "original_set = original_set.drop(['city', 'date'], axis = 1)"
   ]
  },
  {
   "cell_type": "code",
   "execution_count": null,
   "metadata": {
    "collapsed": false
   },
   "outputs": [],
   "source": [
    "#Create training and testing sets\n",
    "df_train = original_set[original_set['year'] < 2015]\n",
    "if(sampleSize > 0):\n",
    "    df_train = df_train.sample(sampleSize, random_state=23)\n",
    "\n",
    "df_train = df_train.drop(['year'], axis = 1)\n",
    "df_train_x = df_train[['duration', 'type', 'london']]\n",
    "df_train_y = df_train['price']\n",
    "\n",
    "df_test = original_set[original_set['year'] == 2015]\n",
    "df_test_x = df_test[['duration', 'type', 'london']]\n",
    "df_test_y = df_test['price']"
   ]
  },
  {
   "cell_type": "markdown",
   "metadata": {},
   "source": [
    "# Initial Data View"
   ]
  },
  {
   "cell_type": "code",
   "execution_count": null,
   "metadata": {
    "collapsed": false
   },
   "outputs": [],
   "source": [
    "#Get basic description of the dataset\n",
    "df_train.head(10)"
   ]
  },
  {
   "cell_type": "code",
   "execution_count": null,
   "metadata": {
    "collapsed": false
   },
   "outputs": [],
   "source": [
    "df_train.dtypes"
   ]
  },
  {
   "cell_type": "code",
   "execution_count": null,
   "metadata": {
    "collapsed": false
   },
   "outputs": [],
   "source": [
    "#Show price according the different features\n",
    "display(df_train.groupby(['duration']).describe().unstack())\n",
    "display(df_train.groupby(['type']).describe().unstack())\n",
    "display(df_train.groupby(['london']).describe().unstack())"
   ]
  },
  {
   "cell_type": "code",
   "execution_count": null,
   "metadata": {
    "collapsed": false
   },
   "outputs": [],
   "source": [
    "#Visual representation of the data\n",
    "fig, axes = plt.subplots(nrows=1, ncols=3)\n",
    "df_train.boxplot(column = 'price', by = 'duration',ax=axes[0])\n",
    "axes[0].set_ylim(1,600000)\n",
    "df_train.boxplot(column = 'price', by = 'type', ax=axes[1])\n",
    "axes[1].set_ylim(1,600000)\n",
    "df_train.boxplot(column = 'price', by = 'london', ax=axes[2])\n",
    "axes[2].set_ylim(1,600000)\n",
    "\n",
    "#>> Y axis limited in order to visualize the data\n",
    "#>> sd too high and most houses are concentrated in the lower bound of the price"
   ]
  },
  {
   "cell_type": "markdown",
   "metadata": {},
   "source": [
    "# Binarizing Features"
   ]
  },
  {
   "cell_type": "code",
   "execution_count": null,
   "metadata": {
    "collapsed": false
   },
   "outputs": [],
   "source": [
    "#Binarize the categorical columns so we can use them in the regression model\n",
    "df_train_x = pd.get_dummies(df_train_x)\n",
    "df_test_x = pd.get_dummies(df_test_x)"
   ]
  },
  {
   "cell_type": "code",
   "execution_count": null,
   "metadata": {
    "collapsed": false
   },
   "outputs": [],
   "source": [
    "#Fix: There are no Duration=U in 2015 records... adding the dummy variable so it doesn't fail\n",
    "df_test_x['duration_U'] = 0\n",
    "df_test_x = df_test_x[df_train_x.columns.values]"
   ]
  },
  {
   "cell_type": "markdown",
   "metadata": {},
   "source": [
    "# Model: Decision Tree"
   ]
  },
  {
   "cell_type": "code",
   "execution_count": null,
   "metadata": {
    "collapsed": false
   },
   "outputs": [],
   "source": [
    "# Cross Validation Generator\n",
    "cv = cross_validation.ShuffleSplit(len(df_train_x), n_iter=10, test_size=0.2,\n",
    "    random_state=0)"
   ]
  },
  {
   "cell_type": "code",
   "execution_count": null,
   "metadata": {
    "collapsed": false
   },
   "outputs": [],
   "source": [
    "#Find the best parameters for the model\n",
    "if(parameterTunning):\n",
    "    X_train, X_test, y_train, y_test = cross_validation.train_test_split(\n",
    "        df_train_x, df_train_y, test_size=0.3, random_state=0)\n",
    "\n",
    "    tuned_parameters = [\n",
    "        {'max_depth':[2, 10, 50, 100]},\n",
    "        {'min_samples_leaf':[1, 2, 10, 50, 100]},\n",
    "        {'min_samples_split':[1, 2, 10, 50, 100]},\n",
    "        {'presort':[True, False]},\n",
    "        {'min_weight_fraction_leaf':[0.0, 0.1, 0.3]}]   \n",
    "\n",
    "    #Grid Search for the Best Parameters\n",
    "    clf = GridSearchCV(tree.DecisionTreeRegressor(), tuned_parameters, cv=10, scoring='r2')\n",
    "    clf.fit(X_train, y_train)\n",
    "\n",
    "    #best_estimator_ returns the best estimator chosen by the search\n",
    "    print(\"Best parameters set found on development set:\")\n",
    "    print(clf.best_estimator_)\n",
    "    print \"\"\n",
    "\n",
    "    #Loop and print the results for each parameter\n",
    "    print(\"Grid scores on training set:\")\n",
    "    for params, mean_score, scores in clf.grid_scores_:\n",
    "        print(\"%0.3f (+/-%0.03f) for %r\"\n",
    "              % (mean_score, scores.std() / 2, params))"
   ]
  },
  {
   "cell_type": "code",
   "execution_count": null,
   "metadata": {
    "collapsed": true
   },
   "outputs": [],
   "source": [
    "#Best Model Found by Parameter Tunning\n",
    "dtr = tree.DecisionTreeRegressor(criterion='mse', max_depth=None, max_features=None,\n",
    "           max_leaf_nodes=None, min_samples_leaf=1, min_samples_split=100,\n",
    "           min_weight_fraction_leaf=0.0, presort=False, random_state=None,\n",
    "           splitter='best')"
   ]
  },
  {
   "cell_type": "code",
   "execution_count": null,
   "metadata": {
    "collapsed": false
   },
   "outputs": [],
   "source": [
    "# Cross Validation\n",
    "print('10-Fold Crossvalidation | R-squared Coefficients')\n",
    "for train, test in cv:\n",
    "    clf = dtr.fit(df_train_x.iloc[train], df_train_y.iloc[train])\n",
    "    print(\"train score: {0:.3f}, test score: {1:.3f}\".format(\n",
    "        clf.score(df_train_x.iloc[train], df_train_y.iloc[train]), clf.score(df_train_x.iloc[test], df_train_y.iloc[test])))"
   ]
  },
  {
   "cell_type": "code",
   "execution_count": null,
   "metadata": {
    "collapsed": false
   },
   "outputs": [],
   "source": [
    "# Predicting & Results\n",
    "clf = dtr.fit(df_train_x, df_train_y)\n",
    "print('R-squared Coefficient')\n",
    "print(\"Train Score: {0:.3f} | Test Score: {1:.3f}\".format(\n",
    "        clf.score(df_train_x, df_train_y), clf.score(df_test_x, df_test_y)))"
   ]
  }
 ],
 "metadata": {
  "anaconda-cloud": {},
  "kernelspec": {
   "display_name": "Python [default]",
   "language": "python",
   "name": "python2"
  },
  "language_info": {
   "codemirror_mode": {
    "name": "ipython",
    "version": 2
   },
   "file_extension": ".py",
   "mimetype": "text/x-python",
   "name": "python",
   "nbconvert_exporter": "python",
   "pygments_lexer": "ipython2",
   "version": "2.7.12"
  }
 },
 "nbformat": 4,
 "nbformat_minor": 0
}
